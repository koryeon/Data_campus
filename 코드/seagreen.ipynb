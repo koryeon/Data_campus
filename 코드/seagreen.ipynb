{
 "cells": [
  {
   "cell_type": "code",
   "execution_count": 4,
   "id": "210df5a1",
   "metadata": {},
   "outputs": [],
   "source": [
    "import pandas as pd\n",
    "import folium"
   ]
  },
  {
   "cell_type": "code",
   "execution_count": 26,
   "id": "e980aa6f",
   "metadata": {},
   "outputs": [
    {
     "data": {
      "text/html": [
       "<div>\n",
       "<style scoped>\n",
       "    .dataframe tbody tr th:only-of-type {\n",
       "        vertical-align: middle;\n",
       "    }\n",
       "\n",
       "    .dataframe tbody tr th {\n",
       "        vertical-align: top;\n",
       "    }\n",
       "\n",
       "    .dataframe thead th {\n",
       "        text-align: right;\n",
       "    }\n",
       "</style>\n",
       "<table border=\"1\" class=\"dataframe\">\n",
       "  <thead>\n",
       "    <tr style=\"text-align: right;\">\n",
       "      <th></th>\n",
       "      <th>해역</th>\n",
       "      <th>년도</th>\n",
       "      <th>광역시도</th>\n",
       "      <th>지선</th>\n",
       "      <th>위도</th>\n",
       "      <th>경도</th>\n",
       "    </tr>\n",
       "  </thead>\n",
       "  <tbody>\n",
       "    <tr>\n",
       "      <th>0</th>\n",
       "      <td>동해</td>\n",
       "      <td>2011</td>\n",
       "      <td>강원도</td>\n",
       "      <td>양양군 현북면 기사문리</td>\n",
       "      <td>38.096667</td>\n",
       "      <td>128.766111</td>\n",
       "    </tr>\n",
       "    <tr>\n",
       "      <th>1</th>\n",
       "      <td>동해</td>\n",
       "      <td>2011</td>\n",
       "      <td>강원도</td>\n",
       "      <td>양양군 현북면 기사문리</td>\n",
       "      <td>38.025278</td>\n",
       "      <td>128.809167</td>\n",
       "    </tr>\n",
       "    <tr>\n",
       "      <th>2</th>\n",
       "      <td>동해</td>\n",
       "      <td>2011</td>\n",
       "      <td>강원도</td>\n",
       "      <td>양양군 현북면 기사문리</td>\n",
       "      <td>38.162500</td>\n",
       "      <td>128.888611</td>\n",
       "    </tr>\n",
       "    <tr>\n",
       "      <th>3</th>\n",
       "      <td>동해</td>\n",
       "      <td>2011</td>\n",
       "      <td>강원도</td>\n",
       "      <td>양양군 현북면 기사문리</td>\n",
       "      <td>38.212500</td>\n",
       "      <td>128.970000</td>\n",
       "    </tr>\n",
       "    <tr>\n",
       "      <th>4</th>\n",
       "      <td>동해</td>\n",
       "      <td>2011</td>\n",
       "      <td>강원도</td>\n",
       "      <td>삼척시 원덕읍 신남</td>\n",
       "      <td>37.391389</td>\n",
       "      <td>129.508611</td>\n",
       "    </tr>\n",
       "    <tr>\n",
       "      <th>...</th>\n",
       "      <td>...</td>\n",
       "      <td>...</td>\n",
       "      <td>...</td>\n",
       "      <td>...</td>\n",
       "      <td>...</td>\n",
       "      <td>...</td>\n",
       "    </tr>\n",
       "    <tr>\n",
       "      <th>1241</th>\n",
       "      <td>제주</td>\n",
       "      <td>2022</td>\n",
       "      <td>제주특별자치도</td>\n",
       "      <td>서귀포시 중문동</td>\n",
       "      <td>33.240278</td>\n",
       "      <td>126.420833</td>\n",
       "    </tr>\n",
       "    <tr>\n",
       "      <th>1242</th>\n",
       "      <td>제주</td>\n",
       "      <td>2022</td>\n",
       "      <td>제주특별자치도</td>\n",
       "      <td>서귀포시 태흥1리</td>\n",
       "      <td>33.268056</td>\n",
       "      <td>126.718056</td>\n",
       "    </tr>\n",
       "    <tr>\n",
       "      <th>1243</th>\n",
       "      <td>제주</td>\n",
       "      <td>2022</td>\n",
       "      <td>제주특별자치도</td>\n",
       "      <td>서귀포시 태흥1리</td>\n",
       "      <td>33.268056</td>\n",
       "      <td>126.740278</td>\n",
       "    </tr>\n",
       "    <tr>\n",
       "      <th>1244</th>\n",
       "      <td>제주</td>\n",
       "      <td>2022</td>\n",
       "      <td>제주특별자치도</td>\n",
       "      <td>서귀포시 태흥1리</td>\n",
       "      <td>33.270833</td>\n",
       "      <td>126.740278</td>\n",
       "    </tr>\n",
       "    <tr>\n",
       "      <th>1245</th>\n",
       "      <td>제주</td>\n",
       "      <td>2022</td>\n",
       "      <td>제주특별자치도</td>\n",
       "      <td>서귀포시 태흥1리</td>\n",
       "      <td>33.270833</td>\n",
       "      <td>126.718056</td>\n",
       "    </tr>\n",
       "  </tbody>\n",
       "</table>\n",
       "<p>1246 rows × 6 columns</p>\n",
       "</div>"
      ],
      "text/plain": [
       "      해역    년도     광역시도            지선         위도          경도\n",
       "0     동해  2011      강원도  양양군 현북면 기사문리  38.096667  128.766111\n",
       "1     동해  2011      강원도  양양군 현북면 기사문리  38.025278  128.809167\n",
       "2     동해  2011      강원도  양양군 현북면 기사문리  38.162500  128.888611\n",
       "3     동해  2011      강원도  양양군 현북면 기사문리  38.212500  128.970000\n",
       "4     동해  2011      강원도    삼척시 원덕읍 신남  37.391389  129.508611\n",
       "...   ..   ...      ...           ...        ...         ...\n",
       "1241  제주  2022  제주특별자치도      서귀포시 중문동  33.240278  126.420833\n",
       "1242  제주  2022  제주특별자치도     서귀포시 태흥1리  33.268056  126.718056\n",
       "1243  제주  2022  제주특별자치도     서귀포시 태흥1리  33.268056  126.740278\n",
       "1244  제주  2022  제주특별자치도     서귀포시 태흥1리  33.270833  126.740278\n",
       "1245  제주  2022  제주특별자치도     서귀포시 태흥1리  33.270833  126.718056\n",
       "\n",
       "[1246 rows x 6 columns]"
      ]
     },
     "execution_count": 26,
     "metadata": {},
     "output_type": "execute_result"
    }
   ],
   "source": [
    "green=pd.read_csv('green/seagreen최종.csv', encoding='cp949', engine='python')\n",
    "green"
   ]
  },
  {
   "cell_type": "code",
   "execution_count": 27,
   "id": "680cc682",
   "metadata": {},
   "outputs": [
    {
     "data": {
      "text/plain": [
       "0       38.096667\n",
       "1       38.025278\n",
       "2       38.162500\n",
       "3       38.212500\n",
       "4       37.391389\n",
       "          ...    \n",
       "1241    33.240278\n",
       "1242    33.268056\n",
       "1243    33.268056\n",
       "1244    33.270833\n",
       "1245    33.270833\n",
       "Name: 위도, Length: 1246, dtype: float64"
      ]
     },
     "execution_count": 27,
     "metadata": {},
     "output_type": "execute_result"
    }
   ],
   "source": [
    "green['위도']"
   ]
  },
  {
   "cell_type": "code",
   "execution_count": 47,
   "id": "0f790510",
   "metadata": {},
   "outputs": [],
   "source": [
    "map_CB=folium.Map(location=[36.633333, 127.85], zoom_start=7.5)"
   ]
  },
  {
   "cell_type": "code",
   "execution_count": 48,
   "id": "3d9d7402",
   "metadata": {},
   "outputs": [],
   "source": [
    "for i, add in green.iterrows():\n",
    "    folium.Marker(location=[add['위도'],add['경도']],\n",
    "                  popup=add['지선'],icon=folium.Icon(color='red',icon='star')).add_to(map_CB) "
   ]
  },
  {
   "cell_type": "code",
   "execution_count": 49,
   "id": "35a58803",
   "metadata": {},
   "outputs": [],
   "source": [
    "map_CB.save('green/map_apppage.html') "
   ]
  },
  {
   "cell_type": "code",
   "execution_count": null,
   "id": "145b423f",
   "metadata": {},
   "outputs": [],
   "source": []
  }
 ],
 "metadata": {
  "kernelspec": {
   "display_name": "Python 3 (ipykernel)",
   "language": "python",
   "name": "python3"
  },
  "language_info": {
   "codemirror_mode": {
    "name": "ipython",
    "version": 3
   },
   "file_extension": ".py",
   "mimetype": "text/x-python",
   "name": "python",
   "nbconvert_exporter": "python",
   "pygments_lexer": "ipython3",
   "version": "3.9.12"
  }
 },
 "nbformat": 4,
 "nbformat_minor": 5
}
